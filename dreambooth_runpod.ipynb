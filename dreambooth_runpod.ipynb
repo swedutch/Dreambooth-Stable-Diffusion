{
	"cells": [{
			"cell_type": "markdown",
			"id": "aa2c1ada",
			"metadata": {
				"id": "aa2c1ada"
			},
			"source": [
				"# Dreambooth\n",
				"### Notebook implementation by Joe Penna (@MysteryGuitarM on Twitter) - Improvements by David Bielejeski\n",
				"\n",
				"### Instructions\n",
				"- Sign up for RunPod here: https://runpod.io/?ref=n8yfwyum\n",
				"    - Note: That's my personal referral link. Please don't use it if we are mortal enemies.\n",
				"\n",
				"- Click *Deploy* on either `SECURE CLOUD` or `COMMUNITY CLOUD`\n",
				"\n",
				"- Follow the rest of the instructions in this video: https://www.youtube.com/watch?v=7m__xadX0z0#t=5m33.1s\n",
				"\n",
				"Latest information on:\n",
				"https://github.com/JoePenna/Dreambooth-Stable-Diffusion"
			]
		},
		{
			"cell_type": "markdown",
			"id": "7b971cc0",
			"metadata": {
				"id": "7b971cc0"
			},
			"source": [
				"## Build Environment"
			]
		},
		{
			"cell_type": "code",
			"execution_count": null,
			"id": "9e1bc458-091b-42f4-a125-c3f0df20f29d",
			"metadata": {
				"id": "9e1bc458-091b-42f4-a125-c3f0df20f29d",
				"scrolled": true
			},
			"outputs": [],
			"source": [
				"# BUILD ENV\n",
				"!pip install omegaconf\n",
				"!pip install einops\n",
				"!pip install pytorch-lightning==1.6.5\n",
				"!pip install test-tube\n",
				"!pip install transformers\n",
				"!pip install kornia\n",
				"!pip install -e git+https://github.com/CompVis/taming-transformers.git@master#egg=taming-transformers\n",
				"!pip install -e git+https://github.com/openai/CLIP.git@main#egg=clip\n",
				"!pip install setuptools==59.5.0\n",
				"!pip install pillow==9.0.1\n",
				"!pip install torchmetrics==0.6.0\n",
				"!pip install -e .\n",
				"!pip install protobuf==3.20.1\n",
				"!pip install gdown\n",
				"!pip install -qq diffusers[\"training\"]==0.3.0 transformers ftfy\n",
				"!pip install -qq \"ipywidgets>=7,<8\"\n",
				"!pip install huggingface_hub\n",
				"!pip install ipywidgets==7.7.1\n",
				"!pip install captionizer==1.0.1\n"
			]
		},
		{
			"cell_type": "code",
			"execution_count": null,
			"id": "dae11c10",
			"metadata": {
				"id": "dae11c10"
			},
			"outputs": [],
			"source": [
				"!gdown https://drive.google.com/uc?id=1RxZU1JFe4iut-2UFlX0CAjyVkgg1ko5O"
			]
		},
		{
			"cell_type": "code",
			"execution_count": 1,
			"id": "e7EydXCjOV1v",
			"metadata": {
				"id": "e7EydXCjOV1v"
			},
			"outputs": [],
			"source": [
				"#Download Regularization Images\n",
				"\n",
				"dataset=\"person_ddim\" #@param [\"man_euler\", \"man_unsplash\", \"person_ddim\", \"woman_ddim\", \"blonde_woman\"]\n",
				"!git clone https://github.com/djbielejeski/Stable-Diffusion-Regularization-Images-{dataset}.git\n",
				"\n",
				"!mkdir -p regularization_images/{dataset}\n",
				"!mv -v Stable-Diffusion-Regularization-Images-{dataset}/{dataset}/*.* regularization_images/{dataset}"
			]
		},
		{
			"cell_type": "code",
			"execution_count": null,
			"id": "6fa5dd66-2ca0-4819-907e-802e25583ae6",
			"metadata": {
				"id": "6fa5dd66-2ca0-4819-907e-802e25583ae6",
				"tags": []
			},
			"outputs": [],
			"source": [
				"# Training\n",
				"token = \"token\"\n",
				"# This isn't used for training, just to help you remember what your trained into the model.\n",
				"project_name = token + \"_training\"\n",
				"\n",
				"# MAX STEPS\n",
				"# How many steps do you want to train for?\n",
				"max_training_steps = 2000\n",
				"\n",
				"# Match class_word to the category of the regularization images you chose above.\n",
				"class_word = \"person\" # typical uses are \"man\", \"person\", \"woman\"\n",
				"\n",
				"reg_data_root = \"/workspace/Dreambooth-Stable-Diffusion/regularization_images/\" + dataset\n",
				"\n",
				"!rm -rf training_images/.ipynb_checkpoints\n",
				"!python \"main.py\" \\\n",
				" --base configs/stable-diffusion/v1-finetune_unfrozen.yaml \\\n",
				" -t \\\n",
				" --actual_resume \"sd-v1-4-full-ema.ckpt\" \\\n",
				" --reg_data_root \"{reg_data_root}\" \\\n",
				" -n \"{project_name}\" \\\n",
				" --gpus 0, \\\n",
				" --data_root \"/workspace/Dreambooth-Stable-Diffusion/training_images_{token}\" \\\n",
				" --max_training_steps {max_training_steps} \\\n",
				" --class_word \"{class_word}\" \\\n",
				" --token \"{token}\" \\\n",
				" --no-test"
			]
		},
		{
			"cell_type": "markdown",
			"id": "dc49d0bd",
			"metadata": {},
			"source": [
				"## Copy and name the checkpoint file"
			]
		},
		{
			"cell_type": "code",
			"execution_count": null,
			"metadata": {
				"collapsed": false
			},
			"outputs": [],
			"source": [
				"!mkdir -p trained_models\n",
				"!for i in $(find ./logs | grep last); do cp $i trained_models/$(echo $i | awk -F \"/\" '{print $3}' | awk -F \"_\" '{print $3}' | awk -F \"20\" '{print $1}').ckpt; echo copied $i to trained_models/$(echo $i | awk -F \"/\" '{print $3}' | awk -F \"_\" '{print $3}' | awk -F \"20\" '{print $1}').ckpt; done;"
			]
		},
		{
			"cell_type": "markdown",
			"id": "d28d0139",
			"metadata": {},
			"source": [
				"## Generate Images With Your Trained Model!"
			]
		},
		{
			"cell_type": "code",
			"execution_count": null,
			"id": "80ddb03b",
			"metadata": {},
			"outputs": [],
			"source": [
				"!python scripts/stable_txt2img.py \\\n",
				" --ddim_eta 0.0 \\\n",
				" --n_samples 1 \\\n",
				" --n_iter 4 \\\n",
				" --scale 7.0 \\\n",
				" --ddim_steps 50 \\\n",
				" --ckpt \"/workspace/Dreambooth-Stable-Diffusion/trained_models/{file_name}\" \\\n",
				" --prompt \"token person as a masterpiece portrait painting by John Singer Sargent in the style of Rembrandt\""
			]
		}
	],
	"metadata": {
		"colab": {
			"collapsed_sections": [],
			"provenance": []
		},
		"kernelspec": {
			"display_name": "Python 3 (ipykernel)",
			"language": "python",
			"name": "python3"
		},
		"language_info": {
			"codemirror_mode": {
				"name": "ipython",
				"version": 3
			},
			"file_extension": ".py",
			"mimetype": "text/x-python",
			"name": "python",
			"nbconvert_exporter": "python",
			"pygments_lexer": "ipython3",
			"version": "3.10.6"
		},
		"vscode": {
			"interpreter": {
				"hash": "b0fa6594d8f4cbf19f97940f81e996739fb7646882a419484c72d19e05852a7e"
			}
		}
	},
	"nbformat": 4,
	"nbformat_minor": 5
}
